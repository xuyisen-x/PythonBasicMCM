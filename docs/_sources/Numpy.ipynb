{
 "cells": [
  {
   "cell_type": "markdown",
   "metadata": {},
   "source": [
    "# Numpy介绍\n",
    "\n",
    "[Numpy文档(中文)](https://www.numpy.org.cn/reference/)\n",
    "\n",
    "[Numpy官方文档(英文)](https://www.numpy.org.cn/en/)\n",
    "\n",
    "NumPy(Numerical Python) 是 Python 语言的一个扩展程序库，支持大量的维度数组与矩阵运算，此外也针对数组运算提供大量的数学函数库。\n",
    "\n",
    "为什么使用Numpy\n",
    "* 由于Numpy的数组运算发生在GIL之外，并且其内部的数值计算都是用C语言编写，因此运算速度非常快。\n",
    "* 在数据分析、机器学习、科学计算和工程等多个领域都有广泛应用，是很多此方面Python库（如下文介绍的SciPy和matplotlib）的基础。\n",
    "* 提供了大量内建的便捷函数，方便进行数据操作。\n",
    "\n",
    "## ndarray对象的创建与元素访问\n",
    "NumPy最重要的一个特点是其N维数组对象 ndarray，它是一系列同类型数据的集合，以0下标为开始进行集合中元素的索引。ndarray对象是用于存放同类型元素的多维数组。ndarray对象可以进行切片操作，ndarray对象的访问方式与切片操作方式与列表类似。\n",
    "\n",
    "我们可以使用`numpy.array`函数创建ndarray对象。除此之外，还有一些函数可以生成特定形式的ndarray对象."
   ]
  },
  {
   "cell_type": "code",
   "execution_count": 1,
   "metadata": {},
   "outputs": [
    {
     "name": "stdout",
     "output_type": "stream",
     "text": [
      "a = \n",
      " [1 2 3 4 5]\n",
      "b = \n",
      " [[1 2 3]\n",
      " [4 5 6]]\n",
      "c = \n",
      " [[0. 0. 0.]\n",
      " [0. 0. 0.]]\n",
      "d = \n",
      " [[1. 0. 0.]\n",
      " [0. 1. 0.]\n",
      " [0. 0. 1.]]\n"
     ]
    }
   ],
   "source": [
    "import numpy as np    #在使用numpy包之前，我们需要先导入包\n",
    "a = np.array([1,2,3,4,5])   #创建1维数组\n",
    "b = np.array([[1,2,3],[4,5,6]])   #创建2维数组\n",
    "c = np.zeros((2,3))  #创建全0数组\n",
    "d = np.eye(3)   #创建3*3的单位矩阵\n",
    "print(\"a = \\n\",a)\n",
    "print(\"b = \\n\",b)\n",
    "print(\"c = \\n\",c)\n",
    "print(\"d = \\n\",d)"
   ]
  },
  {
   "cell_type": "code",
   "execution_count": 2,
   "metadata": {},
   "outputs": [
    {
     "name": "stdout",
     "output_type": "stream",
     "text": [
      "a = \n",
      " [1 2 3 4 5]\n",
      "b = \n",
      " [1. 2. 3. 4. 5.]\n",
      "c = \n",
      " [1.+0.j 2.+0.j 3.+0.j 4.+0.j 5.+0.j]\n"
     ]
    }
   ],
   "source": [
    "import numpy as np\n",
    "#观察3者区别\n",
    "a = np.array([1,2,3,4,5])\n",
    "b = np.array([1,2,3,4,5],dtype = float)\n",
    "c = np.array([1,2,3,4,5],dtype = complex)\n",
    "print(\"a = \\n\",a)\n",
    "print(\"b = \\n\",b)\n",
    "print(\"c = \\n\",c)"
   ]
  },
  {
   "cell_type": "code",
   "execution_count": 3,
   "metadata": {},
   "outputs": [
    {
     "name": "stdout",
     "output_type": "stream",
     "text": [
      "a[1] = 2\n",
      "a[1:3] = [2 3]\n",
      "b[0,1] = 2\n",
      "b[1,0] = 4\n",
      "b[0:2,0:2] =\n",
      " [[1 2]\n",
      " [4 5]]\n",
      "c = [1 2 3]\n",
      "a[c] = [2 3 4]\n"
     ]
    }
   ],
   "source": [
    "import numpy as np\n",
    "#元素访问与切片操作展示\n",
    "a = np.array([1,2,3,4,5])\n",
    "b = np.array([[1,2,3],[4,5,6]])\n",
    "c = np.arange(1,4,1)\n",
    "\n",
    "print(\"a[1] =\",a[1])\n",
    "print(\"a[1:3] =\",a[1:3])\n",
    "print(\"b[0,1] =\",b[0,1])\n",
    "print(\"b[1,0] =\",b[1,0])\n",
    "print(\"b[0:2,0:2] =\\n\",b[0:2,0:2])\n",
    "print(\"c =\",c)\n",
    "print(\"a[c] =\",a[c])"
   ]
  },
  {
   "cell_type": "markdown",
   "metadata": {},
   "source": [
    "## Numpy算数函数与数学函数\n",
    "NumPy算术函数包含简单的加减乘除: `add`，`subtract`，`multiply`和`divide`，分别对应操作符`+`，`-`，`*`，`/`。同时NumPy包含大量的各种数学运算的函数，包括三角函数，算术运算的函数，复数处理函数等。"
   ]
  },
  {
   "cell_type": "code",
   "execution_count": 4,
   "metadata": {},
   "outputs": [
    {
     "name": "stdout",
     "output_type": "stream",
     "text": [
      "a+b =\n",
      " [[ 3  6  9]\n",
      " [12 15 18]]\n",
      "a-b =\n",
      " [[1 2 3]\n",
      " [4 5 6]]\n",
      "a*b =\n",
      " [[ 2  8 18]\n",
      " [32 50 72]]\n",
      "a/b =\n",
      " [[2. 2. 2.]\n",
      " [2. 2. 2.]]\n",
      "a+b =\n",
      " [[ 3  6  9]\n",
      " [12 15 18]]\n",
      "a-b =\n",
      " [[1 2 3]\n",
      " [4 5 6]]\n",
      "a*b =\n",
      " [[ 2  8 18]\n",
      " [32 50 72]]\n",
      "a/b =\n",
      " [[2. 2. 2.]\n",
      " [2. 2. 2.]]\n"
     ]
    }
   ],
   "source": [
    "import numpy as np\n",
    "a = np.array([[2,4,6],[8,10,12]])\n",
    "b = np.array([[1,2,3],[4,5,6]])\n",
    "\n",
    "print('a+b =\\n', np.add(a,b))\n",
    "print('a-b =\\n', np.subtract(a,b))\n",
    "print('a*b =\\n', np.multiply(a,b))\n",
    "print('a/b =\\n', np.divide(a,b))\n",
    "\n",
    "print('a+b =\\n', a + b)\n",
    "print('a-b =\\n', a - b)\n",
    "print('a*b =\\n', a * b)\n",
    "print('a/b =\\n', a / b)"
   ]
  },
  {
   "cell_type": "code",
   "execution_count": 5,
   "metadata": {},
   "outputs": [
    {
     "name": "stdout",
     "output_type": "stream",
     "text": [
      "a^2 =\n",
      " [[  4  16  36]\n",
      " [ 64 100 144]]\n",
      "sin(a) =\n",
      " [[ 0.90929743 -0.7568025  -0.2794155 ]\n",
      " [ 0.98935825 -0.54402111 -0.53657292]]\n",
      "cos(a) =\n",
      " [[-0.41614684 -0.65364362  0.96017029]\n",
      " [-0.14550003 -0.83907153  0.84385396]]\n",
      "sin(a*pi) =\n",
      " [[-2.44929360e-16 -4.89858720e-16 -7.34788079e-16]\n",
      " [-9.79717439e-16 -1.22464680e-15 -1.46957616e-15]]\n",
      "cos(a*pi) =\n",
      " [[1. 1. 1.]\n",
      " [1. 1. 1.]]\n"
     ]
    }
   ],
   "source": [
    "import numpy as np\n",
    "a = np.array([[2,4,6],[8,10,12]])\n",
    "\n",
    "print('a^2 =\\n', np.square(a))\n",
    "print('sin(a) =\\n', np.sin(a))\n",
    "print('cos(a) =\\n', np.cos(a))\n",
    "print('sin(a*pi) =\\n', np.sin(a*np.pi))\n",
    "print('cos(a*pi) =\\n', np.cos(a*np.pi))\n"
   ]
  },
  {
   "cell_type": "markdown",
   "metadata": {},
   "source": [
    "### 广播机制\n",
    "广播是Numpy对不同形状的数组进行数值计算的方式，对数组的算术运算通常在相应的元素上进行，这要求维数相同，且各维度的长度相同。当运算中的 2 个数组的形状不同时，Numpy将自动触发广播机制。广播机制的规则如下：\n",
    "* 让所有输入数组都向其中形状最长的数组看齐，形状中不足的部分都通过在前面加 1 补齐。\n",
    "* 输出数组的形状是输入数组形状的各个维度上的最大值。\n",
    "* 如果输入数组的某个维度和输出数组的对应维度的长度相同或者其长度为 1 时，这个数组能够用来计算，否则出错。\n",
    "* 当输入数组的某个维度的长度为 1 时，沿着此维度运算时都用此维度上的第一组值。\n",
    "\n",
    "![广播机制](broadcast.gif)"
   ]
  },
  {
   "cell_type": "code",
   "execution_count": 6,
   "metadata": {},
   "outputs": [
    {
     "name": "stdout",
     "output_type": "stream",
     "text": [
      "(4, 3)\n",
      "(3,)\n",
      "[[ 0  1  2]\n",
      " [10 11 12]\n",
      " [20 21 22]\n",
      " [30 31 32]]\n"
     ]
    }
   ],
   "source": [
    "import numpy as np \n",
    "a = np.array([[ 0, 0, 0],\n",
    "              [10,10,10],\n",
    "              [20,20,20],\n",
    "              [30,30,30]])\n",
    "b = np.array([0,1,2])\n",
    "\n",
    "print(a.shape)\n",
    "print(b.shape)\n",
    "\n",
    "print(a + b)"
   ]
  },
  {
   "cell_type": "markdown",
   "metadata": {},
   "source": [
    "## Numpy向量运算\n",
    "Numpy中提供一些函数用于向量的运算，我们可以用`numpy.dot`计算向量的点积，`numpy.cross`计算向量的叉积"
   ]
  },
  {
   "cell_type": "code",
   "execution_count": 7,
   "metadata": {},
   "outputs": [
    {
     "name": "stdout",
     "output_type": "stream",
     "text": [
      "arr1·arr2： 20\n",
      "arr1×arr2 [-1  2 -1]\n",
      "arr2×arr1 [ 1 -2  1]\n"
     ]
    }
   ],
   "source": [
    "import numpy as np\n",
    "arr1 = np.array([1,2,3])\n",
    "arr2 = np.array([2,3,4])\n",
    "\n",
    "print(\"arr1·arr2：\",np.dot(arr1,arr2))\n",
    "print(\"arr1×arr2\",np.cross(arr1,arr2))\n",
    "print(\"arr2×arr1\",np.cross(arr2,arr1))"
   ]
  },
  {
   "cell_type": "markdown",
   "metadata": {},
   "source": [
    "## Numpy矩阵运算\n",
    "Numpy中也提供了一些用于矩阵运算的函数"
   ]
  },
  {
   "cell_type": "code",
   "execution_count": 8,
   "metadata": {},
   "outputs": [
    {
     "name": "stdout",
     "output_type": "stream",
     "text": [
      "矩阵乘法：\n",
      " [[37 40]\n",
      " [85 92]]\n",
      "向量内积： 130\n",
      "矩阵转置：\n",
      " [[1 3]\n",
      " [2 4]]\n",
      "矩阵转置：\n",
      " [[1 3]\n",
      " [2 4]]\n",
      "矩阵求逆：\n",
      " [[-2.   1. ]\n",
      " [ 1.5 -0.5]]\n",
      "矩阵行列式：\n",
      " -2.0000000000000004\n"
     ]
    }
   ],
   "source": [
    "import numpy as np\n",
    "a = np.array([[1,2],[3,4]])\n",
    "b = np.array([[11,12],[13,14]])\n",
    "print(\"矩阵乘法：\\n\", np.dot(a,b))  #矩阵乘法\n",
    "print(\"向量内积：\", np.vdot(a,b))    #向量点积\n",
    "print(\"矩阵转置：\\n\", np.transpose(a))  #矩阵转置\n",
    "print(\"矩阵转置：\\n\", a.T)  #矩阵转置\n",
    "print(\"矩阵求逆：\\n\", np.linalg.inv(a))  #矩阵求逆\n",
    "print(\"矩阵行列式：\\n\", np.linalg.det(a))  #矩阵行列式"
   ]
  },
  {
   "cell_type": "markdown",
   "metadata": {},
   "source": [
    "我们观察下述五元一次方程：\n",
    "\n",
    "$$\\begin{cases}\n",
    "6x_1+1x_2+4x_3+4x_4+8x_5 =76 \\\\\n",
    "4x_1+6x_2+3x_3+5x_4+8x_5 =85 \\\\\n",
    "7x_1+9x_2+9x_3+2x_4+7x_5 =95 \\\\\n",
    "8x_1+8x_2+9x_3+2x_4+6x_5 =89 \\\\\n",
    "9x_1+5x_2+6x_3+6x_4+6x_5 =91 \n",
    "\\end{cases}$$\n",
    "\n",
    "我们可以将其写为矩阵形式\n",
    "\n",
    "$$\\begin{bmatrix}6&1&4&4&8\\\\4&6&3&5&8\\\\7&9&9&2&7\\\\8&8&9&2&6\\\\9&5&6&6&6\\end{bmatrix}\\mathbf{x}=\\begin{bmatrix}76\\\\85\\\\95\\\\89\\\\91\\end{bmatrix}$$\n",
    "\n",
    "我们不难发现$\\mathbf{x} = [1,2,3,4,5]^T$是它的解\n",
    "\n",
    "我们知道，线性方程$\\mathbf{Ax} = \\mathbf{b}$如果存在唯一解，可以用$\\mathbf{x}=\\mathbf{A^{-1}b}$来计算它的解"
   ]
  },
  {
   "cell_type": "code",
   "execution_count": 9,
   "metadata": {},
   "outputs": [
    {
     "name": "stdout",
     "output_type": "stream",
     "text": [
      "x= [1. 2. 3. 4. 5.]\n",
      "x= [1. 2. 3. 4. 5.]\n"
     ]
    }
   ],
   "source": [
    "import numpy as np\n",
    "A = np.array([[6, 1, 4, 4, 8],\n",
    "              [4, 6, 3, 5, 8],\n",
    "              [7, 9, 9, 2, 7],\n",
    "              [8, 8, 9, 2, 6],\n",
    "              [9, 5, 6, 6, 6]])\n",
    "\n",
    "B = np.array([76, 85, 95, 89, 91])\n",
    "\n",
    "print(\"x=\",np.dot(np.linalg.inv(A),B))\n",
    "\n",
    "#numpy还提供了solve函数，用于求解线性方程\n",
    "print(\"x=\",np.linalg.solve(A,B))"
   ]
  },
  {
   "cell_type": "markdown",
   "metadata": {},
   "source": [
    "## Numpy统计运算\n",
    "NumPy 提供了很多统计函数，用于从数组中查找最小元素，最大元素，百分位标准差和方差等。 "
   ]
  },
  {
   "cell_type": "code",
   "execution_count": 10,
   "metadata": {},
   "outputs": [
    {
     "name": "stdout",
     "output_type": "stream",
     "text": [
      "最大值： 9\n",
      "最小值： 0\n",
      "平均值： 4.5\n",
      "标准差： 2.8722813232690143\n",
      "方差： 8.25\n",
      "中位数： 4.5\n",
      "和： 45\n"
     ]
    }
   ],
   "source": [
    "import numpy as np\n",
    "a = np.arange(0,10,1)\n",
    "\n",
    "print(\"最大值：\",np.max(a))\n",
    "print(\"最小值：\",np.min(a))\n",
    "print(\"平均值：\",np.mean(a))\n",
    "print(\"标准差：\",np.std(a))\n",
    "print(\"方差：\",np.var(a))\n",
    "print(\"中位数：\",np.median(a))\n",
    "print(\"和：\",np.sum(a))"
   ]
  }
 ],
 "metadata": {
  "kernelspec": {
   "display_name": "JBtest",
   "language": "python",
   "name": "python3"
  },
  "language_info": {
   "codemirror_mode": {
    "name": "ipython",
    "version": 3
   },
   "file_extension": ".py",
   "mimetype": "text/x-python",
   "name": "python",
   "nbconvert_exporter": "python",
   "pygments_lexer": "ipython3",
   "version": "3.11.5"
  }
 },
 "nbformat": 4,
 "nbformat_minor": 2
}
