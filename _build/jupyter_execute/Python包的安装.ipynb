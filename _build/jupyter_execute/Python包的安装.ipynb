{
 "cells": [
  {
   "cell_type": "markdown",
   "metadata": {},
   "source": [
    "# Python包的安装\n",
    "\n",
    "首先，我们需要安装一下，今天演示所需要的包，正常情况下，以numpy为例，我们可以用以下方式安装包：\n",
    "* 在指定环境下，在命令行中输入`pip install numpy`\n",
    "* 在指定环境下，在命令行中输入`python -m pip install numpy`\n",
    "* 或者使用conda安装，在命令行中输入`conda install numpy --name [你的环境名称]`\n",
    "\n",
    "请注意，在国内使用上述命令，可能速度较慢，我们建议使用清华源，可以显著提升安装速度：\n",
    "\n",
    "* [PyPI 镜像使用帮助](https://mirrors.tuna.tsinghua.edu.cn/help/pypi/)\n",
    "* [Anaconda 镜像使用帮助](https://mirrors.tuna.tsinghua.edu.cn/help/anaconda/)\n",
    "\n",
    "在jupyter notebook中，提供了更加便捷的方式安装这些包："
   ]
  },
  {
   "cell_type": "code",
   "execution_count": 1,
   "metadata": {},
   "outputs": [
    {
     "name": "stdout",
     "output_type": "stream",
     "text": [
      "Looking in indexes: https://pypi.tuna.tsinghua.edu.cn/simple\r\n",
      "Requirement already satisfied: pip in /home/xuyisen/anaconda3/envs/JBtest/lib/python3.11/site-packages (23.2.1)\r\n"
     ]
    },
    {
     "name": "stdout",
     "output_type": "stream",
     "text": [
      "Writing to /home/xuyisen/.config/pip/pip.conf\r\n"
     ]
    },
    {
     "name": "stdout",
     "output_type": "stream",
     "text": [
      "Looking in indexes: https://pypi.tuna.tsinghua.edu.cn/simple\r\n",
      "Requirement already satisfied: numpy in /home/xuyisen/anaconda3/envs/JBtest/lib/python3.11/site-packages (1.26.0)\r\n",
      "Requirement already satisfied: matplotlib in /home/xuyisen/anaconda3/envs/JBtest/lib/python3.11/site-packages (3.8.0)\r\n",
      "Requirement already satisfied: pandas in /home/xuyisen/anaconda3/envs/JBtest/lib/python3.11/site-packages (2.1.1)\r\n",
      "Requirement already satisfied: scikit-learn in /home/xuyisen/anaconda3/envs/JBtest/lib/python3.11/site-packages (1.3.1)\r\n",
      "Requirement already satisfied: sympy in /home/xuyisen/anaconda3/envs/JBtest/lib/python3.11/site-packages (1.12)\r\n",
      "Requirement already satisfied: scipy in /home/xuyisen/anaconda3/envs/JBtest/lib/python3.11/site-packages (1.11.3)\r\n",
      "Requirement already satisfied: scikit-opt in /home/xuyisen/anaconda3/envs/JBtest/lib/python3.11/site-packages (0.6.6)\r\n",
      "Requirement already satisfied: contourpy>=1.0.1 in /home/xuyisen/anaconda3/envs/JBtest/lib/python3.11/site-packages (from matplotlib) (1.1.1)\r\n",
      "Requirement already satisfied: cycler>=0.10 in /home/xuyisen/anaconda3/envs/JBtest/lib/python3.11/site-packages (from matplotlib) (0.12.1)\r\n",
      "Requirement already satisfied: fonttools>=4.22.0 in /home/xuyisen/anaconda3/envs/JBtest/lib/python3.11/site-packages (from matplotlib) (4.43.1)\r\n",
      "Requirement already satisfied: kiwisolver>=1.0.1 in /home/xuyisen/anaconda3/envs/JBtest/lib/python3.11/site-packages (from matplotlib) (1.4.5)\r\n",
      "Requirement already satisfied: packaging>=20.0 in /home/xuyisen/anaconda3/envs/JBtest/lib/python3.11/site-packages (from matplotlib) (23.2)\r\n",
      "Requirement already satisfied: pillow>=6.2.0 in /home/xuyisen/anaconda3/envs/JBtest/lib/python3.11/site-packages (from matplotlib) (10.0.1)\r\n",
      "Requirement already satisfied: pyparsing>=2.3.1 in /home/xuyisen/anaconda3/envs/JBtest/lib/python3.11/site-packages (from matplotlib) (3.1.1)\r\n"
     ]
    },
    {
     "name": "stdout",
     "output_type": "stream",
     "text": [
      "Requirement already satisfied: python-dateutil>=2.7 in /home/xuyisen/anaconda3/envs/JBtest/lib/python3.11/site-packages (from matplotlib) (2.8.2)\r\n",
      "Requirement already satisfied: pytz>=2020.1 in /home/xuyisen/anaconda3/envs/JBtest/lib/python3.11/site-packages (from pandas) (2023.3.post1)\r\n",
      "Requirement already satisfied: tzdata>=2022.1 in /home/xuyisen/anaconda3/envs/JBtest/lib/python3.11/site-packages (from pandas) (2023.3)\r\n"
     ]
    },
    {
     "name": "stdout",
     "output_type": "stream",
     "text": [
      "Requirement already satisfied: joblib>=1.1.1 in /home/xuyisen/anaconda3/envs/JBtest/lib/python3.11/site-packages (from scikit-learn) (1.3.2)\r\n",
      "Requirement already satisfied: threadpoolctl>=2.0.0 in /home/xuyisen/anaconda3/envs/JBtest/lib/python3.11/site-packages (from scikit-learn) (3.2.0)\r\n",
      "Requirement already satisfied: mpmath>=0.19 in /home/xuyisen/anaconda3/envs/JBtest/lib/python3.11/site-packages (from sympy) (1.3.0)\r\n"
     ]
    },
    {
     "name": "stdout",
     "output_type": "stream",
     "text": [
      "Requirement already satisfied: six>=1.5 in /home/xuyisen/anaconda3/envs/JBtest/lib/python3.11/site-packages (from python-dateutil>=2.7->matplotlib) (1.16.0)\r\n"
     ]
    }
   ],
   "source": [
    "!pip install --upgrade pip\n",
    "!pip config set global.index-url https://pypi.tuna.tsinghua.edu.cn/simple\n",
    "!pip install numpy matplotlib pandas scikit-learn sympy scipy scikit-opt"
   ]
  },
  {
   "cell_type": "markdown",
   "metadata": {},
   "source": [
    "在安装完成后，我们需要导入包，才可以使用。我们可以使用`import`来导入我们需要的包，下面展示了几种`import`的用法"
   ]
  },
  {
   "cell_type": "code",
   "execution_count": 2,
   "metadata": {},
   "outputs": [
    {
     "name": "stdout",
     "output_type": "stream",
     "text": [
      "3.141592653589793\n",
      "3.141592653589793\n",
      "3.141592653589793\n",
      "3.141592653589793\n"
     ]
    }
   ],
   "source": [
    "import math    #导入后，调用时需要加入前缀\n",
    "print(math.pi)\n",
    "\n",
    "from math import pi   #可以直接使用pi，不需要前缀\n",
    "print(pi)\n",
    "\n",
    "import math as ma   #同第一种，但是使用别名\n",
    "print(ma.pi)\n",
    "\n",
    "from math import pi as yzl   #同第二种，但是使用别名\n",
    "print(yzl)"
   ]
  }
 ],
 "metadata": {
  "kernelspec": {
   "display_name": "JBtest",
   "language": "python",
   "name": "python3"
  },
  "language_info": {
   "codemirror_mode": {
    "name": "ipython",
    "version": 3
   },
   "file_extension": ".py",
   "mimetype": "text/x-python",
   "name": "python",
   "nbconvert_exporter": "python",
   "pygments_lexer": "ipython3",
   "version": "3.11.5"
  }
 },
 "nbformat": 4,
 "nbformat_minor": 2
}