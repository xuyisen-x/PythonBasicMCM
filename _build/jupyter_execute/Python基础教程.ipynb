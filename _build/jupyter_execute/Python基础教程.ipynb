{
 "cells": [
  {
   "cell_type": "markdown",
   "metadata": {},
   "source": [
    "# Python基础教程\n",
    "我们今天只介绍我们需要用到的python基础语法，想要更深入的学习，部分同学可以在大学计算机基础这门课中学到，也可以通过自学\n",
    "\n",
    "可以通过下列线上资源自学：\n",
    "* [Python 基础教程 | 菜鸟教程](https://www.runoob.com/python3/python3-tutorial.html)\n",
    "  * 本教程中Python基础教程部分内容，大部分来自于此教程\n",
    "* [微软 Python 入门课程](https://www.bilibili.com/video/BV1nE41127zQ/?share_source=copy_web&vd_source=05ccba29fd8493941e6cb2497e146b8e)\n",
    "  * [PPT与代码资源](https://github.com/microsoft/c9-python-getting-started)\n",
    "\n",
    "对于Python在机器学习或者数据分析的相关教程，可以在B站上寻找相关内容"
   ]
  },
  {
   "cell_type": "markdown",
   "metadata": {},
   "source": [
    "## Python基础语法\n",
    "### 编码\n",
    "默认情况下，Python 3 源码文件以 UTF-8 编码，所有字符串都是 unicode 字符串。\n",
    "\n",
    "### 标识符\n",
    "* 第一个字符必须是字母（或其他语言中的字符）或下划线`_` 。\n",
    "* 标识符的其他的部分由字母（或其他语言中的字符）、数字和下划线组成。\n",
    "* 标识符对大小写敏感。\n",
    "* 在 Python 3 中，可以用中文作为变量名，非 ASCII 标识符也是允许的了。 \n",
    "\n",
    "下述标识符都是允许的"
   ]
  },
  {
   "cell_type": "code",
   "execution_count": 1,
   "metadata": {},
   "outputs": [
    {
     "name": "stdout",
     "output_type": "stream",
     "text": [
      "1 2 3 4 5 6\n"
     ]
    }
   ],
   "source": [
    "a = 1\n",
    "_a = 2\n",
    "啊 = 3\n",
    "_啊 = 4\n",
    "α = 5\n",
    "_α = 6\n",
    "\n",
    "print(a, _a, 啊, _啊, α, _α)"
   ]
  },
  {
   "cell_type": "markdown",
   "metadata": {},
   "source": [
    "### Python保留字\n",
    "保留字即关键字，我们不能把它们用作任何标识符名称。Python 的标准库提供了一个 keyword 模块，可以输出当前版本的所有关键字："
   ]
  },
  {
   "cell_type": "code",
   "execution_count": 2,
   "metadata": {},
   "outputs": [
    {
     "data": {
      "text/plain": [
       "['False',\n",
       " 'None',\n",
       " 'True',\n",
       " 'and',\n",
       " 'as',\n",
       " 'assert',\n",
       " 'async',\n",
       " 'await',\n",
       " 'break',\n",
       " 'class',\n",
       " 'continue',\n",
       " 'def',\n",
       " 'del',\n",
       " 'elif',\n",
       " 'else',\n",
       " 'except',\n",
       " 'finally',\n",
       " 'for',\n",
       " 'from',\n",
       " 'global',\n",
       " 'if',\n",
       " 'import',\n",
       " 'in',\n",
       " 'is',\n",
       " 'lambda',\n",
       " 'nonlocal',\n",
       " 'not',\n",
       " 'or',\n",
       " 'pass',\n",
       " 'raise',\n",
       " 'return',\n",
       " 'try',\n",
       " 'while',\n",
       " 'with',\n",
       " 'yield']"
      ]
     },
     "execution_count": 2,
     "metadata": {},
     "output_type": "execute_result"
    }
   ],
   "source": [
    "import keyword\n",
    "keyword.kwlist"
   ]
  },
  {
   "cell_type": "code",
   "execution_count": 3,
   "metadata": {},
   "outputs": [],
   "source": [
    "#下面的语句会报错\n",
    "# False = 1"
   ]
  },
  {
   "cell_type": "markdown",
   "metadata": {},
   "source": [
    "### 注释\n",
    "Python中单行注释以`#`开头，多行注释可以用多个`#`，也可以用`'''`或`\"\"\"`"
   ]
  },
  {
   "cell_type": "code",
   "execution_count": 4,
   "metadata": {},
   "outputs": [
    {
     "name": "stdout",
     "output_type": "stream",
     "text": [
      "Hello, Python!\n"
     ]
    }
   ],
   "source": [
    "# 第一个注释\n",
    "# 第二个注释\n",
    "'''\n",
    "第三个注释\n",
    "第四个注释\n",
    "'''\n",
    "\"\"\"\n",
    "第五个注释\n",
    "第六个注释\n",
    "\"\"\"\n",
    "print (\"Hello, Python!\") # 第七个注释"
   ]
  },
  {
   "cell_type": "markdown",
   "metadata": {},
   "source": [
    "### 行与缩进\n",
    "python最具特色的就是使用缩进来表示代码块，不需要使用大括号`{}` 。\n",
    "缩进的空格数是可变的，但是同一个代码块的语句必须包含相同的缩进空格数。实例如下： "
   ]
  },
  {
   "cell_type": "code",
   "execution_count": 5,
   "metadata": {},
   "outputs": [
    {
     "name": "stdout",
     "output_type": "stream",
     "text": [
      "True\n"
     ]
    }
   ],
   "source": [
    "if True:\n",
    "    print (\"True\")\n",
    "else:\n",
    "    print (\"False\")"
   ]
  },
  {
   "cell_type": "markdown",
   "metadata": {},
   "source": [
    "### 条件控制语句\n",
    "Python中一般使用`if – elif – else`来实现条件控制，其一般形式如下：\n",
    "```\n",
    "if condition_1:\n",
    "    statement_block_1\n",
    "elif condition_2:\n",
    "    statement_block_2\n",
    "else:\n",
    "    statement_block_3\n",
    "```\n",
    "* 如果 \"condition_1\" 为True，将执行 \"statement_block_1\" 块语句\n",
    "* 如果 \"condition_1\" 为False，将判断 \"condition_2\"\n",
    "* 如果 \"condition_2\" 为True，将执行 \"statement_block_2\" 块语句\n",
    "* 如果 \"condition_2\" 为False，将执行\"statement_block_3\"块语句\n",
    "\n",
    "**注意：**\n",
    "* 每个条件后面要使用冒号`:`表示接下来是满足条件后要执行的语句块\n",
    "* 使用缩进来划分语句块，相同缩进数的语句在一起组成一个语句块\n",
    "* 在Python中没有`switch...case`语句，但在Python3.10版本添加了`match...case`，功能也类似，这里不再介绍。\n",
    "\n",
    "以下为if中常用的操作运算符:\n",
    "| 操作符 | 描述                     |\n",
    "| ------ | ------------------------ |\n",
    "| `<`    | 小于                     |\n",
    "| `<=`   | 小于或等于               |\n",
    "| `>`    | 大于                     |\n",
    "| `>=`   | 大于或等于               |\n",
    "| `==`   | 等于，比较两个值是否相等 |\n",
    "| `!=`   | 不等于                   |\n",
    "\n",
    "下面展示了一个条件控制语句的例子"
   ]
  },
  {
   "cell_type": "code",
   "execution_count": 6,
   "metadata": {},
   "outputs": [
    {
     "name": "stdout",
     "output_type": "stream",
     "text": [
      "对应人类年龄:  27\n"
     ]
    }
   ],
   "source": [
    "age = 3\n",
    "if age <= 0:\n",
    "    print(\"你是在逗我吧!\")\n",
    "elif age == 1:\n",
    "    print(\"相当于 14 岁的人。\")\n",
    "elif age == 2:\n",
    "    print(\"相当于 22 岁的人。\")\n",
    "elif age > 2:\n",
    "    human = 22 + (age -2)*5\n",
    "    print(\"对应人类年龄: \", human)"
   ]
  },
  {
   "cell_type": "markdown",
   "metadata": {},
   "source": [
    "### 循环语句\n",
    "#### while循环\n",
    "while循环的一般形式如下：\n",
    "```\n",
    "while <expr>:\n",
    "    <statement(s)>\n",
    "else:\n",
    "    <additional_statement(s)>\n",
    "```\n",
    "* 当`<expr>`为真时，将会执行`<statement(s)>`语句，执行完毕后继续判断`<expr>`真假，如果为真则继续执行`<statement(s)>`\n",
    "* 当`<expr>`为假时，则会执行`<additional_statement(s)>`语句\n",
    "\n",
    "下面展示了一个使用while循环的例子"
   ]
  },
  {
   "cell_type": "code",
   "execution_count": 7,
   "metadata": {},
   "outputs": [
    {
     "name": "stdout",
     "output_type": "stream",
     "text": [
      "1 到 100 之和为: 5050\n"
     ]
    }
   ],
   "source": [
    "n = 100\n",
    "sum0 = 0\n",
    "counter = 1\n",
    "while counter <= n:\n",
    "    sum0 = sum0 + counter\n",
    "    counter += 1\n",
    "else:\n",
    "    print(\"1 到 %d 之和为: %d\" % (n,sum0))"
   ]
  },
  {
   "cell_type": "markdown",
   "metadata": {},
   "source": [
    "#### for循环\n",
    "for循环的一般形式如下：\n",
    "```\n",
    "for <variable> in <sequence>:\n",
    "    <statement(s)>\n",
    "else:\n",
    "    <additional_statement(s)>\n",
    "```\n",
    "* `<variable>`会依次取`<sequence>`中的元素，并执行`<statement(s)>`语句\n",
    "* `<sequence>`中的元素被取完后，会执行`<additional_statement(s)>`语句，并退出循环\n",
    "\n",
    "下面展示了两个使用for循环的例子"
   ]
  },
  {
   "cell_type": "code",
   "execution_count": 8,
   "metadata": {},
   "outputs": [
    {
     "name": "stdout",
     "output_type": "stream",
     "text": [
      "1 到 100 之和为: 5050\n"
     ]
    }
   ],
   "source": [
    "n = 100\n",
    "sum0 = 0\n",
    "for i in range(1,n + 1):\n",
    "    sum0 += i\n",
    "else:\n",
    "    print(\"1 到 %d 之和为: %d\" % (n,sum0))"
   ]
  },
  {
   "cell_type": "code",
   "execution_count": 9,
   "metadata": {},
   "outputs": [
    {
     "name": "stdout",
     "output_type": "stream",
     "text": [
      "r\n",
      "u\n",
      "n\n",
      "o\n",
      "o\n",
      "b\n"
     ]
    }
   ],
   "source": [
    "word = 'runoob'\n",
    "for letter in word:\n",
    "    print(letter)"
   ]
  },
  {
   "cell_type": "markdown",
   "metadata": {},
   "source": [
    "#### break与continue语句\n",
    "* break语句可以跳出for和while的循环体。如果你从for或while循环中终止，任何对应的循环else块将不执行\n",
    "* continue语句被用来告诉Python跳过当前循环块中的剩余语句，然后继续进行下一轮循环"
   ]
  },
  {
   "cell_type": "code",
   "execution_count": 10,
   "metadata": {},
   "outputs": [
    {
     "name": "stdout",
     "output_type": "stream",
     "text": [
      "r\n",
      "u\n",
      "n\n"
     ]
    }
   ],
   "source": [
    "#使用break语句会跳出循环体\n",
    "word = 'runoob'\n",
    "for letter in word:\n",
    "    if letter == 'o':\n",
    "        break\n",
    "    print(letter)"
   ]
  },
  {
   "cell_type": "code",
   "execution_count": 11,
   "metadata": {},
   "outputs": [
    {
     "name": "stdout",
     "output_type": "stream",
     "text": [
      "r\n",
      "u\n",
      "n\n",
      "b\n"
     ]
    }
   ],
   "source": [
    "#使用continue语句会跳过当前循环中的剩余语句，然后进行下一轮循环\n",
    "word = 'runoob'\n",
    "for letter in word:\n",
    "    if letter == 'o':\n",
    "        continue\n",
    "    print(letter)"
   ]
  },
  {
   "cell_type": "markdown",
   "metadata": {},
   "source": [
    "## Python基本数据类型\n",
    "Python 中的变量不需要声明。每个变量在使用前都必须赋值，变量赋值以后该变量才会被创建。在 Python 中，变量就是变量，它没有类型，我们所说的\"类型\"是变量所指的内存中对象的类型。等号（`=`）用来给变量赋值。等号（`=`）运算符左边是一个变量名,等号（`=`）运算符右边是存储在变量中的值。"
   ]
  },
  {
   "cell_type": "code",
   "execution_count": 12,
   "metadata": {},
   "outputs": [
    {
     "name": "stdout",
     "output_type": "stream",
     "text": [
      "100\n",
      "1000.0\n",
      "runoob\n",
      "False\n"
     ]
    }
   ],
   "source": [
    "counter = 100       # 整型变量\n",
    "miles = 1000.0      # 浮点型变量\n",
    "name = \"runoob\"     # 字符串\n",
    "flag = False        # 布尔型变量\n",
    "\n",
    "print(counter)\n",
    "print(miles)\n",
    "print(name)\n",
    "print(flag)"
   ]
  },
  {
   "cell_type": "markdown",
   "metadata": {},
   "source": [
    "我们可以使用`type`函数来判断一个变量的数据类型"
   ]
  },
  {
   "cell_type": "code",
   "execution_count": 13,
   "metadata": {},
   "outputs": [
    {
     "name": "stdout",
     "output_type": "stream",
     "text": [
      "<class 'int'>\n",
      "<class 'float'>\n",
      "<class 'str'>\n",
      "<class 'bool'>\n"
     ]
    }
   ],
   "source": [
    "counter = 100       # 整型变量\n",
    "miles = 1000.0      # 浮点型变量\n",
    "name = \"runoob\"     # 字符串\n",
    "flag = False        # 布尔型变量\n",
    "\n",
    "print(type(counter))\n",
    "print(type(miles))\n",
    "print(type(name))\n",
    "print(type(flag))"
   ]
  },
  {
   "cell_type": "markdown",
   "metadata": {},
   "source": [
    "### 标准数据类型\n",
    "Python3 中常见的数据类型有：\n",
    "* Number（数字）\n",
    "* String（字符串）\n",
    "* bool（布尔类型）\n",
    "* List（列表）\n",
    "* Tuple（元组）\n",
    "* Set（集合）\n",
    "* Dictionary（字典）\n",
    "\n",
    "在本教程中，我们不介绍Tuple（元组）和Set（集合）\n"
   ]
  },
  {
   "cell_type": "markdown",
   "metadata": {},
   "source": [
    "### 列表\n",
    "序列是 Python 中最基本的数据结构。序列中的每个值都有对应的位置值，称之为索引。列表都可以进行的操作包括索引，切片，加，乘，检查成员。此外，Python 已经内置确定序列的长度以及确定最大和最小的元素的方法。列表是最常用的 Python 数据类型，它可以作为一个方括号内的逗号分隔值出现。列表的数据项不需要具有相同的类型。\n",
    "\n",
    "创建一个列表，只要把逗号分隔的不同的数据项使用方括号括起来即可。如下所示："
   ]
  },
  {
   "cell_type": "code",
   "execution_count": 14,
   "metadata": {},
   "outputs": [],
   "source": [
    "list1 = ['Google', 'Runoob', 1997, 2000]\n",
    "list2 = [1, 2, 3, 4, 5 ]\n",
    "list3 = [\"a\", \"b\", \"c\", \"d\"]\n",
    "list4 = ['red', 'green', 'blue', 'yellow', 'white', 'black']"
   ]
  },
  {
   "cell_type": "markdown",
   "metadata": {},
   "source": [
    "#### 访问列表中的值\n",
    "\n",
    "列表索引从`0`开始，第二个索引是`1`，依此类推。\n",
    "通过索引列表可以进行截取、组合等操作。\n",
    "![正向索引](positive-indexes-1.png)"
   ]
  },
  {
   "cell_type": "code",
   "execution_count": 15,
   "metadata": {},
   "outputs": [
    {
     "name": "stdout",
     "output_type": "stream",
     "text": [
      "red\n",
      "green\n",
      "blue\n"
     ]
    }
   ],
   "source": [
    "list = ['red', 'green', 'blue', 'yellow', 'white', 'black']\n",
    "print(list[0])\n",
    "print(list[1])\n",
    "print(list[2])"
   ]
  },
  {
   "cell_type": "markdown",
   "metadata": {},
   "source": [
    "索引也可以从尾部开始，最后一个元素的索引为`-1`，往前一位为`-2`，以此类推。\n",
    "![反向索引](negative-indexes.png)"
   ]
  },
  {
   "cell_type": "code",
   "execution_count": 16,
   "metadata": {},
   "outputs": [
    {
     "name": "stdout",
     "output_type": "stream",
     "text": [
      "black\n",
      "white\n",
      "yellow\n"
     ]
    }
   ],
   "source": [
    "list = ['red', 'green', 'blue', 'yellow', 'white', 'black']\n",
    "print(list[-1])\n",
    "print(list[-2])\n",
    "print(list[-3])"
   ]
  },
  {
   "cell_type": "markdown",
   "metadata": {},
   "source": [
    "使用下标索引来访问列表中的值，同样你也可以使用方括号`[]`的形式截取字符，如下所示：\n",
    "![切片操作](first-slice.png)"
   ]
  },
  {
   "cell_type": "code",
   "execution_count": 17,
   "metadata": {},
   "outputs": [
    {
     "name": "stdout",
     "output_type": "stream",
     "text": [
      "[30, 40, 50, 60, 70]\n"
     ]
    }
   ],
   "source": [
    "nums = [10, 20, 30, 40, 50, 60, 70, 80, 90]\n",
    "print(nums[2:7])"
   ]
  },
  {
   "cell_type": "markdown",
   "metadata": {},
   "source": [
    "#### 更新列表\n",
    "你可以对列表的数据项进行修改或更新，你也可以使用`append()`方法来添加列表项，也可以使用`del`语句来删除列表的的元素"
   ]
  },
  {
   "cell_type": "code",
   "execution_count": 18,
   "metadata": {},
   "outputs": [
    {
     "name": "stdout",
     "output_type": "stream",
     "text": [
      "原始列表: ['Google', 'Runoob', 1997, 2000]\n",
      "修改第三个元素后的列表 ['Google', 'Runoob', 2001, 2000]\n",
      "增加一项后的列表 :  ['Google', 'Runoob', 2001, 2000, 'Baidu']\n",
      "删除第三个元素后的列表:  ['Google', 'Runoob', 2000, 'Baidu']\n"
     ]
    }
   ],
   "source": [
    "list = ['Google', 'Runoob', 1997, 2000]\n",
    "print (\"原始列表:\", list)\n",
    "\n",
    "list[2] = 2001\n",
    "print (\"修改第三个元素后的列表\", list)\n",
    "\n",
    "list.append('Baidu')\n",
    "print (\"增加一项后的列表 : \", list)\n",
    "\n",
    "del list[2]\n",
    "print (\"删除第三个元素后的列表: \", list)"
   ]
  },
  {
   "cell_type": "markdown",
   "metadata": {},
   "source": [
    "#### 函数与方法\n",
    "下表列出了一些常用的与列表有关的函数\n",
    "| 序号 | 函数|描述|\n",
    "| ---- | --------|---------------------------------------------------- |\n",
    "| 1    | len(list)|列表元素个数 |\n",
    "| 2    | max(list)|返回列表元素最大值 |\n",
    "| 3    | min(list)|返回列表元素最小值 |\n",
    "| 4    | list(seq)|将元组转换为列表 |\n",
    "\n",
    "下表列出了一些常用的列表对象可以使用的方法\n",
    "| 序号 | 方法|描述|\n",
    "| ---- | ---------|--------------------------------------------------- |\n",
    "| 1    | list.append(obj)|在列表末尾添加新的对象 |\n",
    "| 2    | list.count(obj)|统计某个元素在列表中出现的次数 |\n",
    "| 3    | list.extend(seq)|在列表末尾一次性追加另一个序列中的多个值（用新列表扩展原来的列表） |\n",
    "| 4    | list.index(obj)|从列表中找出某个值第一个匹配项的索引位置 |\n",
    "| 5    | list.insert(index, obj)|将对象插入列表 |\n",
    "| 6    | list.pop([index=-1\\])|移除列表中的一个元素（默认最后一个元素），并且返回该元素的值 |\n",
    "| 7    | list.remove(obj)|移除列表中某个值的第一个匹配项 |\n",
    "| 8    | list.reverse()|反向列表中元素 |\n",
    "| 9    | list.sort(key=None, reverse=False)|对原列表进行排序 |\n",
    "| 10   | list.clear()|清空列表 |\n",
    "| 11   | list.copy()|复制列表 |\n",
    "\n",
    "操作符`+`和`*`也可以作用于列表，分别表示列表的拼接于重复"
   ]
  },
  {
   "cell_type": "code",
   "execution_count": 19,
   "metadata": {},
   "outputs": [
    {
     "name": "stdout",
     "output_type": "stream",
     "text": [
      "['Hi', 'Hi', 'Hi', 'Hi']\n",
      "['Hi', 'Hi', 'Hi', 'Hi', 'Python']\n"
     ]
    }
   ],
   "source": [
    "print(['Hi']*4)\n",
    "print(['Hi']*4 + ['Python'])"
   ]
  },
  {
   "cell_type": "markdown",
   "metadata": {},
   "source": [
    "### 字典\n",
    "字典是另一种可变容器模型，且可存储任意类型对象。\n",
    "字典的每个键值`key=>value`对用冒号`:`分割，每个对之间用逗号`(,)`分割，整个字典包括在花括号`{}`中 ,格式如：`d = {key1 : value1, key2 : value2, key3 : value3 }`\n",
    "\n",
    "![字典示意图](py-dict-3.png)\n",
    "\n",
    "**注意：**\n",
    "* `dict`作为Python的关键字和内置函数，变量名不建议命名为**dict**。\n",
    "* 键必须是唯一的，但值则不必。\n",
    "* 值可以取任何数据类型，但键必须是不可变的，如字符串，数字。\n",
    "* 使用空的花括号`{}`可以创建一个空的字典，使用`dict()`也可以创建一个空字典\n",
    "\n",
    "一个简单的字典示例如下所示："
   ]
  },
  {
   "cell_type": "code",
   "execution_count": 20,
   "metadata": {},
   "outputs": [],
   "source": [
    "tinydict = {'name': 'runoob', 'likes': 123, 'url': 'www.runoob.com'}"
   ]
  },
  {
   "cell_type": "markdown",
   "metadata": {},
   "source": [
    "#### 访问字典里面的值\n",
    "把相应的键放入到方括号中，即可访问对应的值。\n",
    "\n",
    "**注意：**\n",
    "* 如果用字典里没有的键访问数据，会输出错误"
   ]
  },
  {
   "cell_type": "code",
   "execution_count": 21,
   "metadata": {},
   "outputs": [
    {
     "name": "stdout",
     "output_type": "stream",
     "text": [
      "tinydict['Name']:  Runoob\n",
      "tinydict['Age']:  7\n"
     ]
    }
   ],
   "source": [
    "tinydict = {'Name': 'Runoob', 'Age': 7, 'Class': 'First'}\n",
    " \n",
    "print (\"tinydict['Name']: \", tinydict['Name'])\n",
    "print (\"tinydict['Age']: \", tinydict['Age'])"
   ]
  },
  {
   "cell_type": "markdown",
   "metadata": {},
   "source": [
    "#### 修改字典\n",
    "向字典添加新内容的方法是增加新的键/值对，修改或删除已有键/值对如下实例:"
   ]
  },
  {
   "cell_type": "code",
   "execution_count": 22,
   "metadata": {},
   "outputs": [
    {
     "name": "stdout",
     "output_type": "stream",
     "text": [
      "tinydict['Age']:  8\n",
      "tinydict['School']:  菜鸟教程\n",
      "False\n"
     ]
    }
   ],
   "source": [
    "tinydict = {'Name': 'Runoob', 'Age': 7, 'Class': 'First'}\n",
    " \n",
    "tinydict['Age'] = 8               # 更新 Age\n",
    "tinydict['School'] = \"菜鸟教程\"  # 添加信息\n",
    "del tinydict['Name']            #删除Name\n",
    "\n",
    "print (\"tinydict['Age']: \", tinydict['Age'])\n",
    "print (\"tinydict['School']: \", tinydict['School'])\n",
    "print (\"Name\" in tinydict)"
   ]
  },
  {
   "cell_type": "markdown",
   "metadata": {},
   "source": [
    "#### 函数与方法\n",
    "下表列出了一些常用的与字典有关的函数\n",
    "| 序号 | 函数|描述|\n",
    "| ---- | --------|---------------------------------------------------- |\n",
    "| 1    | len(dict)|计算字典元素个数，即键的总数|\n",
    "| 2    | str(dict)|输出字典，可以打印的字符串表示|\n",
    "\n",
    "下表列出了一些常用的字典对象可以使用的方法\n",
    "| 序号 |方法|描述                                                   |\n",
    "| ---- | -----------|------------------------------------------------- |\n",
    "| 1    | dict.clear()|删除字典内所有元素 |\n",
    "| 2    | dict.copy()|返回一个字典的浅复制 |\n",
    "| 3    | dict.fromkeys()|创建一个新字典，以序列seq中元素做字典的键，val为字典所有键对应的初始值 |\n",
    "| 4    | dict.get(key, default=None)|返回指定键的值，如果键不在字典中返回 default 设置的默认值 |\n",
    "| 5    | key in dict|如果键在字典dict里返回true，否则返回false |\n",
    "| 6    | dict.items()|以列表返回一个视图对象 |\n",
    "| 7    | dict.keys()|返回一个视图对象 |\n",
    "| 8    | dict.setdefault(key, default=None)|和get()类似, 但如果键不存在于字典中，将会添加键并将值设为default |\n",
    "| 9    | dict.update(dict2)|把字典dict2的键/值对更新到dict里 |\n",
    "| 10   | dict.values()|返回一个视图对象 |\n",
    "| 11   | dict.pop(key[,default\\])|删除字典 key（键）所对应的值，返回被删除的值。 |\n",
    "| 12   | dict.popitem()|返回并删除字典中的最后一对键和值。 |"
   ]
  },
  {
   "cell_type": "code",
   "execution_count": 23,
   "metadata": {},
   "outputs": [
    {
     "name": "stdout",
     "output_type": "stream",
     "text": [
      "dict_keys(['Name', 'Age', 'Class'])\n",
      "dict_items([('Name', 'Runoob'), ('Age', 7), ('Class', 'First')])\n",
      "dict_values(['Runoob', 7, 'First'])\n",
      "dict_keys(['Name', 'Age', 'Class', 'School'])\n",
      "dict_items([('Name', 'Runoob'), ('Age', 7), ('Class', 'First'), ('School', '菜鸟教程')])\n",
      "dict_values(['Runoob', 7, 'First', '菜鸟教程'])\n"
     ]
    }
   ],
   "source": [
    "tinydict = {'Name': 'Runoob', 'Age': 7, 'Class': 'First'}\n",
    "keys = tinydict.keys()\n",
    "items = tinydict.items()\n",
    "values = tinydict.values()\n",
    "\n",
    "print(keys)\n",
    "print(items)\n",
    "print(values)\n",
    "\n",
    "tinydict.update({'School':\"菜鸟教程\"})\n",
    "\n",
    "print(keys)\n",
    "print(items)\n",
    "print(values)"
   ]
  }
 ],
 "metadata": {
  "kernelspec": {
   "display_name": "JBtest",
   "language": "python",
   "name": "python3"
  },
  "language_info": {
   "codemirror_mode": {
    "name": "ipython",
    "version": 3
   },
   "file_extension": ".py",
   "mimetype": "text/x-python",
   "name": "python",
   "nbconvert_exporter": "python",
   "pygments_lexer": "ipython3",
   "version": "3.11.5"
  }
 },
 "nbformat": 4,
 "nbformat_minor": 2
}