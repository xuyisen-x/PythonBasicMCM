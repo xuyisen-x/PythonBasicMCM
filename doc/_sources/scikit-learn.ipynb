{
 "cells": [
  {
   "cell_type": "markdown",
   "metadata": {},
   "source": [
    "# scikit-learn包介绍\n",
    "\n",
    "[scikit-learn官方文档(英文)](https://scikit-learn.org/stable/index.html)\n",
    "\n",
    "[scikit-learn文档(中文)](https://www.sklearncn.cn/)\n",
    "\n",
    "scikit-learn 是一个提供各种机器学习算法的 Python 库。它是基于 NumPy, SciPy 和 Matplotlib 构建的，主要用于数据挖掘和数据分析。\n",
    "\n",
    "为什么使用scikit-learn\n",
    "\n",
    "* 包含广泛的监督和非监督学习算法。\n",
    "* 提供统一和简洁的 API，方便快速开发。\n",
    "* 容易与 NumPy 和 Pandas 等库配合使用。\n",
    "\n",
    "我在这里仅仅展示一个简单的用随机森林学习鸢尾花数据集的例子。后面的讲座中，将会有一位学长专门介绍机器学习。"
   ]
  },
  {
   "cell_type": "code",
   "execution_count": 135,
   "metadata": {},
   "outputs": [
    {
     "name": "stdout",
     "output_type": "stream",
     "text": [
      "训练集准确率： 1.0\n",
      "测试集准确率： 1.0\n"
     ]
    }
   ],
   "source": [
    "import pandas as pd\n",
    "from sklearn.model_selection import train_test_split\n",
    "from sklearn.ensemble import RandomForestClassifier\n",
    "from sklearn.metrics import accuracy_score\n",
    "\n",
    "\n",
    "table = pd.read_csv(\"iris.csv\")\n",
    "\n",
    "X = table[['sepal_length', 'sepal_width', 'petal_length', 'petal_width']] # 特征\n",
    "y = table['species'] # 标签\n",
    "y = y.astype('category').cat.codes  # 将标签转换为数字\n",
    "\n",
    "#分割数据集\n",
    "X_train, X_test, y_train, y_test = train_test_split(X, y, test_size=0.2)\n",
    "\n",
    "#创建随机森林分类器，决策树数量为50\n",
    "rfc = RandomForestClassifier(n_estimators=50)\n",
    "rfc.fit(X_train, y_train)  #训练模型\n",
    "\n",
    "# 评估模型\n",
    "print(\"训练集准确率：\", accuracy_score(y_train, rfc.predict(X_train)))\n",
    "print(\"测试集准确率：\", accuracy_score(y_test, rfc.predict(X_test)))\n"
   ]
  }
 ],
 "metadata": {
  "kernelspec": {
   "display_name": "Python 3 (ipykernel)",
   "language": "python",
   "name": "python3"
  },
  "language_info": {
   "codemirror_mode": {
    "name": "ipython",
    "version": 3
   },
   "file_extension": ".py",
   "mimetype": "text/x-python",
   "name": "python",
   "nbconvert_exporter": "python",
   "pygments_lexer": "ipython3",
   "version": "3.11.5"
  }
 },
 "nbformat": 4,
 "nbformat_minor": 4
}
